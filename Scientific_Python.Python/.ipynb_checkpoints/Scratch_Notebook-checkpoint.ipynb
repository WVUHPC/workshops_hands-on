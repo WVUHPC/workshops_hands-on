{
 "cells": [
  {
   "cell_type": "code",
   "execution_count": 3,
   "metadata": {},
   "outputs": [],
   "source": [
    "name=\"Guillermo Avendano Franco\""
   ]
  },
  {
   "cell_type": "code",
   "execution_count": 4,
   "metadata": {},
   "outputs": [
    {
     "data": {
      "text/plain": [
       "'Ocnarf Onadneva Omrelliug'"
      ]
     },
     "execution_count": 4,
     "metadata": {},
     "output_type": "execute_result"
    }
   ],
   "source": [
    "name[::-1].title()"
   ]
  },
  {
   "cell_type": "code",
   "execution_count": 5,
   "metadata": {},
   "outputs": [],
   "source": [
    "lname=[x for x in name if x!=' ']"
   ]
  },
  {
   "cell_type": "code",
   "execution_count": 6,
   "metadata": {},
   "outputs": [],
   "source": [
    "lname;"
   ]
  },
  {
   "cell_type": "code",
   "execution_count": 10,
   "metadata": {},
   "outputs": [
    {
     "data": {
      "text/plain": [
       "'GuillermoAvendanoFranco'"
      ]
     },
     "execution_count": 10,
     "metadata": {},
     "output_type": "execute_result"
    }
   ],
   "source": [
    "''.join(lname)"
   ]
  },
  {
   "cell_type": "code",
   "execution_count": 9,
   "metadata": {},
   "outputs": [],
   "source": [
    "list(range(100));"
   ]
  },
  {
   "cell_type": "code",
   "execution_count": 11,
   "metadata": {},
   "outputs": [],
   "source": [
    "import numpy as np"
   ]
  },
  {
   "cell_type": "code",
   "execution_count": 13,
   "metadata": {},
   "outputs": [],
   "source": [
    "a=np.random.rand(100)"
   ]
  },
  {
   "cell_type": "code",
   "execution_count": 14,
   "metadata": {},
   "outputs": [],
   "source": [
    "b=np.random.rand(100)"
   ]
  },
  {
   "cell_type": "code",
   "execution_count": 16,
   "metadata": {},
   "outputs": [
    {
     "data": {
      "text/plain": [
       "array([85, 31, 74, 92, 50, 91, 66, 29, 60, 45, 38,  4, 34,  1, 37, 54, 19,\n",
       "       44, 15, 17, 40,  9, 86, 23, 14, 78, 46,  8, 39, 84, 36, 21, 20, 69,\n",
       "       67, 97, 94, 65, 55, 28, 30, 83, 22, 10,  6, 68, 27, 73, 48, 88,  0,\n",
       "       80, 90,  2, 70, 96, 62, 71, 51, 12, 42, 43, 93,  5, 16, 75, 61, 24,\n",
       "       89, 32, 26, 57, 63, 11, 64, 49, 87, 33, 25,  3, 58, 79, 53, 95,  7,\n",
       "       76, 59, 56, 13, 81, 35, 98, 82, 77, 41, 99, 47, 52, 72, 18])"
      ]
     },
     "execution_count": 16,
     "metadata": {},
     "output_type": "execute_result"
    }
   ],
   "source": [
    "b.argsort()"
   ]
  },
  {
   "cell_type": "code",
   "execution_count": 17,
   "metadata": {},
   "outputs": [
    {
     "data": {
      "text/plain": [
       "array([0.395096  , 0.47246909, 0.42009785, 0.47583435, 0.92033683,\n",
       "       0.59122467, 0.48212241, 0.09635091, 0.46348758, 0.08731823,\n",
       "       0.02519039, 0.14128063, 0.80033173, 0.10906745, 0.66699556,\n",
       "       0.2840829 , 0.78435832, 0.21819936, 0.03770056, 0.61850495,\n",
       "       0.51019397, 0.68090577, 0.91108027, 0.91471781, 0.50952677,\n",
       "       0.30033122, 0.85844935, 0.44211393, 0.7710031 , 0.96074526,\n",
       "       0.5995979 , 0.59382046, 0.93408847, 0.21165757, 0.10257732,\n",
       "       0.19453289, 0.28395369, 0.43343046, 0.02229555, 0.07335132,\n",
       "       0.13745549, 0.25868955, 0.16536279, 0.21096985, 0.5322671 ,\n",
       "       0.83229733, 0.75866314, 0.308422  , 0.70960511, 0.33979604,\n",
       "       0.47844041, 0.24532839, 0.60672469, 0.90172539, 0.84991528,\n",
       "       0.54560244, 0.26471999, 0.8884211 , 0.43376814, 0.2127042 ,\n",
       "       0.31193031, 0.03047462, 0.66587111, 0.80599714, 0.7875547 ,\n",
       "       0.29098448, 0.54345269, 0.04765759, 0.82954345, 0.34287132,\n",
       "       0.01776428, 0.1777336 , 0.38237108, 0.38865405, 0.38055321,\n",
       "       0.58118887, 0.6560509 , 0.15392696, 0.37331292, 0.40369464,\n",
       "       0.0626518 , 0.83252806, 0.90563386, 0.90590919, 0.84617703,\n",
       "       0.58185685, 0.54046026, 0.81512584, 0.53019138, 0.59129506,\n",
       "       0.44629113, 0.83348311, 0.21312218, 0.26531988, 0.50192385,\n",
       "       0.91237402, 0.44046028, 0.98018322, 0.52433368, 0.57280222])"
      ]
     },
     "execution_count": 17,
     "metadata": {},
     "output_type": "execute_result"
    }
   ],
   "source": [
    "a[b.argsort()]"
   ]
  },
  {
   "cell_type": "code",
   "execution_count": null,
   "metadata": {},
   "outputs": [],
   "source": []
  }
 ],
 "metadata": {
  "kernelspec": {
   "display_name": "Python 3",
   "language": "python",
   "name": "python3"
  },
  "language_info": {
   "codemirror_mode": {
    "name": "ipython",
    "version": 3
   },
   "file_extension": ".py",
   "mimetype": "text/x-python",
   "name": "python",
   "nbconvert_exporter": "python",
   "pygments_lexer": "ipython3",
   "version": "3.7.4"
  }
 },
 "nbformat": 4,
 "nbformat_minor": 2
}
